{
 "cells": [
  {
   "cell_type": "markdown",
   "id": "39c594b2-8b9b-4155-8be6-c3d7f5e484ae",
   "metadata": {},
   "source": [
    "# PANDAS --  confidently load, explore, clean, transform, combine, and export datasets."
   ]
  },
  {
   "cell_type": "markdown",
   "id": "9647151a-0408-4cda-af13-81b85c1a7d92",
   "metadata": {},
   "source": [
    "## DataFrame Creation"
   ]
  },
  {
   "cell_type": "code",
   "execution_count": 2,
   "id": "bc9a58f6-00c9-4358-a8c9-09b07c27920c",
   "metadata": {},
   "outputs": [],
   "source": [
    "import pandas as pd"
   ]
  },
  {
   "cell_type": "markdown",
   "id": "2ff9353d-dc05-4e20-b60c-fc1d8308de1a",
   "metadata": {},
   "source": [
    ".read_csv(\"file_name\") or .read_csv(\"path_wherefile_is\") is used to read a csv file"
   ]
  },
  {
   "cell_type": "code",
   "execution_count": 3,
   "id": "bf050df5-3528-4605-bd21-a1b52f211339",
   "metadata": {},
   "outputs": [],
   "source": [
    "r_cSv = pd.read_csv(\"earth.csv\")"
   ]
  },
  {
   "cell_type": "markdown",
   "id": "f3bfd70a-4048-4527-b32e-6f952a47e8df",
   "metadata": {},
   "source": [
    ".read_excel(\"file_name\") or .read_excel(\"path_wherefile_is\") is used to read a excel file"
   ]
  },
  {
   "cell_type": "code",
   "execution_count": 4,
   "id": "afe010d9-94aa-4637-8332-424ce994f918",
   "metadata": {},
   "outputs": [],
   "source": [
    "r_Ex = pd.read_excel(\"water.xlsx\")"
   ]
  },
  {
   "cell_type": "markdown",
   "id": "5e518a82-01e3-4b46-8c7a-1cf24f9f5adc",
   "metadata": {},
   "source": [
    "## Indexing and Slicing (Loc and iloc)"
   ]
  },
  {
   "cell_type": "code",
   "execution_count": 5,
   "id": "91d2ce95-ced5-4cde-b758-cd46ce87d63b",
   "metadata": {},
   "outputs": [
    {
     "name": "stdout",
     "output_type": "stream",
     "text": [
      "     Name  Age city\n",
      "u1  Sumit   18   uk\n",
      "u2  Sahil   19   ny\n",
      "u3  Ankit   20   nj\n"
     ]
    }
   ],
   "source": [
    "people = pd.DataFrame({\n",
    "    \"Name\" : ['Sumit','Sahil','Ankit'],\n",
    "    \"Age\" : [18,19,20],\n",
    "    \"city\" : [\"uk\",\"ny\",\"nj\"]\n",
    "} , index = ['u1','u2','u3'])\n",
    "print(people)"
   ]
  },
  {
   "cell_type": "code",
   "execution_count": 6,
   "id": "193c3e04-babc-42a8-9798-fa071a866848",
   "metadata": {},
   "outputs": [
    {
     "data": {
      "text/plain": [
       "Name    Sumit\n",
       "Age        18\n",
       "city       uk\n",
       "Name: u1, dtype: object"
      ]
     },
     "execution_count": 6,
     "metadata": {},
     "output_type": "execute_result"
    }
   ],
   "source": [
    "people.loc['u1'] #row with index u1"
   ]
  },
  {
   "cell_type": "code",
   "execution_count": 7,
   "id": "9c236f94-8343-41f5-b536-9ac00b40633a",
   "metadata": {},
   "outputs": [
    {
     "data": {
      "text/plain": [
       "u1    Sumit\n",
       "u2    Sahil\n",
       "u3    Ankit\n",
       "Name: Name, dtype: object"
      ]
     },
     "execution_count": 7,
     "metadata": {},
     "output_type": "execute_result"
    }
   ],
   "source": [
    "people.loc[:,\"Name\"] #column by label"
   ]
  },
  {
   "cell_type": "code",
   "execution_count": 8,
   "id": "460cf21f-c41e-4904-a78e-3ff8e66e28f2",
   "metadata": {},
   "outputs": [
    {
     "data": {
      "text/html": [
       "<div>\n",
       "<style scoped>\n",
       "    .dataframe tbody tr th:only-of-type {\n",
       "        vertical-align: middle;\n",
       "    }\n",
       "\n",
       "    .dataframe tbody tr th {\n",
       "        vertical-align: top;\n",
       "    }\n",
       "\n",
       "    .dataframe thead th {\n",
       "        text-align: right;\n",
       "    }\n",
       "</style>\n",
       "<table border=\"1\" class=\"dataframe\">\n",
       "  <thead>\n",
       "    <tr style=\"text-align: right;\">\n",
       "      <th></th>\n",
       "      <th>Name</th>\n",
       "      <th>Age</th>\n",
       "      <th>city</th>\n",
       "    </tr>\n",
       "  </thead>\n",
       "  <tbody>\n",
       "    <tr>\n",
       "      <th>u1</th>\n",
       "      <td>Sumit</td>\n",
       "      <td>18</td>\n",
       "      <td>uk</td>\n",
       "    </tr>\n",
       "    <tr>\n",
       "      <th>u2</th>\n",
       "      <td>Sahil</td>\n",
       "      <td>19</td>\n",
       "      <td>ny</td>\n",
       "    </tr>\n",
       "    <tr>\n",
       "      <th>u3</th>\n",
       "      <td>Ankit</td>\n",
       "      <td>20</td>\n",
       "      <td>nj</td>\n",
       "    </tr>\n",
       "  </tbody>\n",
       "</table>\n",
       "</div>"
      ],
      "text/plain": [
       "     Name  Age city\n",
       "u1  Sumit   18   uk\n",
       "u2  Sahil   19   ny\n",
       "u3  Ankit   20   nj"
      ]
     },
     "execution_count": 8,
     "metadata": {},
     "output_type": "execute_result"
    }
   ],
   "source": [
    "people.iloc[0:3] # it uses indexes for finding the position"
   ]
  },
  {
   "cell_type": "code",
   "execution_count": 9,
   "id": "600f1333-7cde-435f-84fb-081c849c5106",
   "metadata": {},
   "outputs": [
    {
     "data": {
      "text/plain": [
       "u1    uk\n",
       "u2    ny\n",
       "u3    nj\n",
       "Name: city, dtype: object"
      ]
     },
     "execution_count": 9,
     "metadata": {},
     "output_type": "execute_result"
    }
   ],
   "source": [
    "people.iloc[:,2]"
   ]
  },
  {
   "cell_type": "code",
   "execution_count": 10,
   "id": "d704ce6a-f219-426c-9302-a25ab2d9b5fb",
   "metadata": {},
   "outputs": [
    {
     "data": {
      "text/plain": [
       "Name    Ankit\n",
       "Age        20\n",
       "city       nj\n",
       "Name: u3, dtype: object"
      ]
     },
     "execution_count": 10,
     "metadata": {},
     "output_type": "execute_result"
    }
   ],
   "source": [
    "people.iloc[2,:]"
   ]
  },
  {
   "cell_type": "code",
   "execution_count": 11,
   "id": "e5712b09-94e4-4c4a-9be4-253b6ac67fee",
   "metadata": {},
   "outputs": [
    {
     "data": {
      "text/html": [
       "<div>\n",
       "<style scoped>\n",
       "    .dataframe tbody tr th:only-of-type {\n",
       "        vertical-align: middle;\n",
       "    }\n",
       "\n",
       "    .dataframe tbody tr th {\n",
       "        vertical-align: top;\n",
       "    }\n",
       "\n",
       "    .dataframe thead th {\n",
       "        text-align: right;\n",
       "    }\n",
       "</style>\n",
       "<table border=\"1\" class=\"dataframe\">\n",
       "  <thead>\n",
       "    <tr style=\"text-align: right;\">\n",
       "      <th></th>\n",
       "      <th>Name</th>\n",
       "      <th>Age</th>\n",
       "    </tr>\n",
       "  </thead>\n",
       "  <tbody>\n",
       "    <tr>\n",
       "      <th>u1</th>\n",
       "      <td>Sumit</td>\n",
       "      <td>18</td>\n",
       "    </tr>\n",
       "    <tr>\n",
       "      <th>u2</th>\n",
       "      <td>Sahil</td>\n",
       "      <td>19</td>\n",
       "    </tr>\n",
       "  </tbody>\n",
       "</table>\n",
       "</div>"
      ],
      "text/plain": [
       "     Name  Age\n",
       "u1  Sumit   18\n",
       "u2  Sahil   19"
      ]
     },
     "execution_count": 11,
     "metadata": {},
     "output_type": "execute_result"
    }
   ],
   "source": [
    "people.iloc[0:2,0:2]"
   ]
  },
  {
   "cell_type": "markdown",
   "id": "1aa4eab6-e5ee-4692-a1bd-c4b9c348c677",
   "metadata": {},
   "source": [
    "## DATA CLEANING"
   ]
  },
  {
   "cell_type": "markdown",
   "id": "b9b3f2ea-4bc4-41e1-9f97-e775603b967a",
   "metadata": {},
   "source": [
    "dropna(): remove rows/columns with missing data; supports axis, how, subset, thresh.\n",
    "\n",
    "fillna(): replace missing values with constants or methods (ffill/bfill).\n",
    "\n",
    "drop(): remove rows by label or columns by name.\n",
    "\n",
    "rename(): rename columns or index labels.\n",
    "\n",
    "isna()/notna(): detect missing values.\n",
    "\n",
    "drop_duplicates(): remove duplicate rows."
   ]
  },
  {
   "cell_type": "code",
   "execution_count": 23,
   "id": "67b95a80-98c3-4668-9138-52294f4eeb95",
   "metadata": {},
   "outputs": [
    {
     "name": "stdout",
     "output_type": "stream",
     "text": [
      "     A    B    C\n",
      "0  1.0  NaN  1.0\n",
      "1  2.0  2.0  2.0\n",
      "2  3.0  3.0  NaN\n",
      "3  NaN  4.0  NaN\n",
      "4  5.0  5.0  5.0\n",
      "     A    B     C\n",
      "0  1.0  3.5   1.0\n",
      "1  2.0  2.0   2.0\n",
      "2  3.0  3.0  99.0\n",
      "3  0.0  4.0  99.0\n",
      "4  5.0  5.0   5.0\n",
      "   col_a  col_b\n",
      "0    1.0    NaN\n",
      "1    2.0    2.0\n",
      "2    3.0    3.0\n",
      "3    NaN    4.0\n",
      "4    5.0    5.0\n",
      "   col_a  col_b\n",
      "0    1.0    NaN\n",
      "1    2.0    2.0\n",
      "2    3.0    3.0\n",
      "3    NaN    4.0\n",
      "4    5.0    5.0\n"
     ]
    }
   ],
   "source": [
    "import numpy as np\n",
    "\n",
    "df = pd.DataFrame({\n",
    "    \"A\": [1, 2, 3, np.nan, 5],\n",
    "    \"B\": [np.nan, 2, 3, 4, 5],\n",
    "    \"C\": [1, 2, np.nan, np.nan, 5]\n",
    "})\n",
    "print(df)\n",
    "\n",
    "# 1) Detect missing\n",
    "missing_map = df.isna()         # True/False per cell\n",
    "\n",
    "# 2) Drop rows with any NaN\n",
    "df_any = df.dropna()            # keep only complete rows[6]\n",
    "\n",
    "# 3) Drop rows only if ALL values are NaN\n",
    "# df.dropna(how=\"all\")\n",
    "\n",
    "# 4) Keep rows that have at least 2 non-NaN values\n",
    "df_thresh = df.dropna(thresh=2) # requires >=2 non-NaN[6]\n",
    "\n",
    "# 5) Fill NaN with constants or per-column mapping\n",
    "filled_const = df.fillna(0)                           # fill with 0[8]\n",
    "filled_map = df.fillna({\"A\": 0, \"B\": df[\"B\"].mean(), \"C\": 99})\n",
    "print(filled_map)\n",
    "# 6) Forward/backward fill for time series\n",
    "ffilled =  df.ffill(limit=2)                   # forward fill[8]\n",
    "bfilled =  df.bfill(limit=1)\n",
    "\n",
    "# 7) Drop / rename columns\n",
    "clean = (df\n",
    "    .drop(columns=[\"C\"])            # remove column C\n",
    "    .rename(columns={\"A\": \"col_a\", \"B\": \"col_b\"})\n",
    ")\n",
    "print(clean)\n",
    "# 8) Remove duplicate rows\n",
    "uniq = clean.drop_duplicates()\n",
    "print(uniq)\n"
   ]
  },
  {
   "cell_type": "markdown",
   "id": "23f3d35c-e5b7-4d70-ad8b-06e79b776be9",
   "metadata": {},
   "source": [
    "## Aggregation & sorting"
   ]
  },
  {
   "cell_type": "markdown",
   "id": "f37c18d7-aa7f-4d28-bf6e-230fc5350f4f",
   "metadata": {},
   "source": [
    "groupby(...).agg({...}): multi-metric aggregation.\n",
    "\n",
    "sort_values(by=..., ascending=...): sort.\n",
    "\n",
    "pivot_table(index=..., columns=..., values=..., aggfunc=...): reshape aggregations.\n",
    "\n",
    "mean(), sum(), std(), median(), min(), max(): fast reducers."
   ]
  },
  {
   "cell_type": "code",
   "execution_count": 28,
   "id": "7caed534-cf0a-42f3-bc37-ba971216009a",
   "metadata": {},
   "outputs": [
    {
     "name": "stdout",
     "output_type": "stream",
     "text": [
      "  region  revenue_sum  revenue_mean  units_std\n",
      "0   East          370    123.333333   2.516611\n",
      "1   West          250    125.000000  10.606602\n",
      "\n",
      "  region  revenue_sum  revenue_mean  units_std\n",
      "0   East          370    123.333333   2.516611\n",
      "1   West          250    125.000000  10.606602\n",
      "\n",
      "product    A    B\n",
      "region           \n",
      "East     220  150\n",
      "West     200   50\n"
     ]
    }
   ],
   "source": [
    "sales = pd.DataFrame({\n",
    "    \"region\": [\"East\", \"East\", \"West\", \"West\", \"East\"],\n",
    "    \"product\": [\"A\", \"B\", \"A\", \"B\", \"A\"],\n",
    "    \"revenue\": [100, 150, 200, 50, 120],\n",
    "    \"units\": [10, 15, 20, 5, 12]\n",
    "})\n",
    "\n",
    "# Groupby with multiple aggregations\n",
    "agg = sales.groupby(\"region\").agg(\n",
    "    revenue_sum=(\"revenue\", \"sum\"),\n",
    "    revenue_mean=(\"revenue\", \"mean\"),\n",
    "    units_std=(\"units\", \"std\")\n",
    ").reset_index()\n",
    "print(agg)\n",
    "print()\n",
    "# Sort descending by revenue_sum\n",
    "sorted_agg = agg.sort_values(by=\"revenue_sum\", ascending=False)\n",
    "print(sorted_agg)\n",
    "# Direct reducers\n",
    "avg_rev = sales[\"revenue\"].mean()\n",
    "std_units = sales[\"units\"].std()\n",
    "\n",
    "# Pivot table: revenue by region x product\n",
    "pivot = pd.pivot_table(\n",
    "    sales,\n",
    "    index=\"region\",\n",
    "    columns=\"product\",\n",
    "    values=\"revenue\",\n",
    "    aggfunc=\"sum\",\n",
    "    fill_value=0\n",
    ")\n",
    "print()\n",
    "print(pivot)"
   ]
  },
  {
   "cell_type": "markdown",
   "id": "a82bcecb-b8f0-44ef-931f-93ebd1487801",
   "metadata": {},
   "source": [
    "## Merging & joining datasets"
   ]
  },
  {
   "cell_type": "code",
   "execution_count": 30,
   "id": "1567d421-ff97-46df-bfdc-843a3e1dbd87",
   "metadata": {},
   "outputs": [
    {
     "name": "stdout",
     "output_type": "stream",
     "text": [
      "   cid name    oid  amount\n",
      "0    1  Ada  101.0   250.0\n",
      "1    2  Lin  102.0   100.0\n",
      "2    2  Lin  103.0    80.0\n",
      "3    3  Sam    NaN     NaN\n"
     ]
    }
   ],
   "source": [
    "customers = pd.DataFrame({\n",
    "    \"cid\": [1, 2, 3],\n",
    "    \"name\": [\"Ada\", \"Lin\", \"Sam\"]\n",
    "})\n",
    "orders = pd.DataFrame({\n",
    "    \"oid\": [101, 102, 103],\n",
    "    \"cid\": [1, 2, 2],\n",
    "    \"amount\": [250, 100, 80]\n",
    "})\n",
    "\n",
    "# Merge on key column\n",
    "merged = pd.merge(customers, orders, on=\"cid\", how=\"left\")\n",
    "print(merged)\n",
    "# Concatenate rows (same columns)\n",
    "more_orders = pd.DataFrame({\"oid\": [104], \"cid\": [3], \"amount\": [60]})\n",
    "stacked = pd.concat([orders, more_orders], axis=0, ignore_index=True)\n",
    "\n",
    "# Concatenate columns (align by index)\n",
    "left_cols = customers.set_index(\"cid\")\n",
    "right_cols = orders.groupby(\"cid\")[\"amount\"].sum().to_frame(\"total_amount\")\n",
    "wide = left_cols.join(right_cols, how=\"left\")\n"
   ]
  },
  {
   "cell_type": "code",
   "execution_count": 31,
   "id": "41e956d6-2eef-463e-89c7-60a3c0843382",
   "metadata": {},
   "outputs": [],
   "source": [
    "merged.to_csv(\"merged_orders.csv\", index=False)"
   ]
  }
 ],
 "metadata": {
  "kernelspec": {
   "display_name": "Python [conda env:base] *",
   "language": "python",
   "name": "conda-base-py"
  },
  "language_info": {
   "codemirror_mode": {
    "name": "ipython",
    "version": 3
   },
   "file_extension": ".py",
   "mimetype": "text/x-python",
   "name": "python",
   "nbconvert_exporter": "python",
   "pygments_lexer": "ipython3",
   "version": "3.13.5"
  }
 },
 "nbformat": 4,
 "nbformat_minor": 5
}
