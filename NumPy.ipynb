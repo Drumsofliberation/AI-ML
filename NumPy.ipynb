{
 "cells": [
  {
   "cell_type": "markdown",
   "id": "ec95147c-409f-49f5-8113-b039ce104505",
   "metadata": {},
   "source": [
    "# NUMPY"
   ]
  },
  {
   "cell_type": "markdown",
   "id": "5c523fa3-dacf-4c8c-8c34-c0885546b660",
   "metadata": {},
   "source": [
    "## CREATION OF ARRAY"
   ]
  },
  {
   "cell_type": "markdown",
   "id": "f653fe3b-3af8-4257-bfc8-ededf243e003",
   "metadata": {},
   "source": [
    "Numpy is a library from python used for working with arrays , it is a short term for numerical python."
   ]
  },
  {
   "cell_type": "code",
   "execution_count": 1,
   "id": "b103a24b-5398-4a5d-81f6-f7d290b69e55",
   "metadata": {},
   "outputs": [],
   "source": [
    "import numpy as np"
   ]
  },
  {
   "cell_type": "markdown",
   "id": "0d05bde2-798a-4cb3-af19-a82c354f9560",
   "metadata": {},
   "source": [
    "For creation of arrays we use alias_name.array()"
   ]
  },
  {
   "cell_type": "code",
   "execution_count": 4,
   "id": "0f6b323e-81dd-4980-9c13-0f71b8357af3",
   "metadata": {},
   "outputs": [
    {
     "name": "stdout",
     "output_type": "stream",
     "text": [
      "[1 2 3 4 5]\n"
     ]
    }
   ],
   "source": [
    "arr = np.array([1,2,3,4,5])\n",
    "print(arr)"
   ]
  },
  {
   "cell_type": "markdown",
   "id": "d4935af9-0af1-4dba-a347-630d128f2410",
   "metadata": {},
   "source": [
    "For creation of array between a specific range we use arange function (last value is exluded) . \n"
   ]
  },
  {
   "cell_type": "code",
   "execution_count": 5,
   "id": "094158f9-3657-49c4-ba6e-bf7d75c16b64",
   "metadata": {},
   "outputs": [
    {
     "name": "stdout",
     "output_type": "stream",
     "text": [
      "[5 6 7 8 9]\n"
     ]
    }
   ],
   "source": [
    "arr = np.arange(5,10)\n",
    "print(arr)"
   ]
  },
  {
   "cell_type": "markdown",
   "id": "193620c0-92ec-4f6e-9bd7-7327fd6da4a1",
   "metadata": {},
   "source": [
    "Linspace - It is used for creating a array to provide elements in a range with equal spacings.\n",
    "Format - .linpace(n,m,x) { n = initial value , m = final value , x = number of elements}."
   ]
  },
  {
   "cell_type": "code",
   "execution_count": 28,
   "id": "ffdab2a8-11ed-46b3-9d3c-14f376270162",
   "metadata": {},
   "outputs": [
    {
     "name": "stdout",
     "output_type": "stream",
     "text": [
      "[  1  12  23  34  45  56  67  78  89 100]\n"
     ]
    }
   ],
   "source": [
    "arr = np.linspace(1,100,10)\n",
    "arr2 = arr.astype(int)\n",
    "print(arr2)"
   ]
  },
  {
   "cell_type": "markdown",
   "id": "e7889739-837a-4834-b042-262890018b93",
   "metadata": {},
   "source": [
    "For creating a array or matrix with entries 0 and 1 we use .zeros(for zero) and .ones(for one) and .eye(for an identity matrix)."
   ]
  },
  {
   "cell_type": "code",
   "execution_count": 32,
   "id": "11cfb58e-ba8b-40be-a4c8-ec0ce119adac",
   "metadata": {},
   "outputs": [],
   "source": [
    "arr_Zer = np.zeros((2,2))"
   ]
  },
  {
   "cell_type": "code",
   "execution_count": 33,
   "id": "cfba0a01-747a-4764-b8d5-239eb8581b94",
   "metadata": {},
   "outputs": [],
   "source": [
    "arr_One = np.ones((2,3))"
   ]
  },
  {
   "cell_type": "code",
   "execution_count": 34,
   "id": "22f516ba-db21-4807-a1e4-d812cfbf5ced",
   "metadata": {},
   "outputs": [],
   "source": [
    "arr_iden = np.eye(5)"
   ]
  },
  {
   "cell_type": "code",
   "execution_count": 35,
   "id": "405f68f0-c0ab-4bec-8f6a-a2ab65f76d7d",
   "metadata": {},
   "outputs": [
    {
     "name": "stdout",
     "output_type": "stream",
     "text": [
      "[[0 0]\n",
      " [0 0]]\n"
     ]
    }
   ],
   "source": [
    "print(arr_Zer.astype(int))"
   ]
  },
  {
   "cell_type": "code",
   "execution_count": 36,
   "id": "83a5c0d6-4548-4fa7-8637-1f2aa8b2199d",
   "metadata": {},
   "outputs": [
    {
     "name": "stdout",
     "output_type": "stream",
     "text": [
      "[[1 1 1]\n",
      " [1 1 1]]\n"
     ]
    }
   ],
   "source": [
    "print(arr_One.astype(int))"
   ]
  },
  {
   "cell_type": "code",
   "execution_count": 37,
   "id": "d3a6deda-a661-4295-a00c-8f5a59b94b0a",
   "metadata": {},
   "outputs": [
    {
     "name": "stdout",
     "output_type": "stream",
     "text": [
      "[[1 0 0 0 0]\n",
      " [0 1 0 0 0]\n",
      " [0 0 1 0 0]\n",
      " [0 0 0 1 0]\n",
      " [0 0 0 0 1]]\n"
     ]
    }
   ],
   "source": [
    "print(arr_iden.astype(int))"
   ]
  },
  {
   "cell_type": "markdown",
   "id": "1396ce1c-e985-43a5-acb2-984de37b150a",
   "metadata": {},
   "source": [
    "## INDEXING AND SLICING"
   ]
  },
  {
   "cell_type": "markdown",
   "id": "c0347bfb-a732-4b7a-9b81-e670cf47a724",
   "metadata": {},
   "source": [
    "Simple Indexing - It is used to access the element of an array by giving the element's index."
   ]
  },
  {
   "cell_type": "code",
   "execution_count": 50,
   "id": "f21a1f1d-aacc-45e7-93fc-0def57619675",
   "metadata": {},
   "outputs": [
    {
     "name": "stdout",
     "output_type": "stream",
     "text": [
      "[0 1 2 3 4 5 6 7 8 9]\n"
     ]
    }
   ],
   "source": [
    "Sim = np.arange(10)\n",
    "print(Sim)"
   ]
  },
  {
   "cell_type": "code",
   "execution_count": 51,
   "id": "a0ab9ff0-0128-4a2f-b2d4-15db4ab632de",
   "metadata": {},
   "outputs": [
    {
     "name": "stdout",
     "output_type": "stream",
     "text": [
      "3\n"
     ]
    }
   ],
   "source": [
    "print(Sim[3])"
   ]
  },
  {
   "cell_type": "markdown",
   "id": "dcec78b7-89ef-443b-838a-ddcba31ad662",
   "metadata": {},
   "source": [
    "Slicing - It defines a range in which we want to get the elements , and the last one is exclusive."
   ]
  },
  {
   "cell_type": "code",
   "execution_count": 52,
   "id": "868145be-41bf-49f2-b6f9-555fe27e1daa",
   "metadata": {},
   "outputs": [
    {
     "name": "stdout",
     "output_type": "stream",
     "text": [
      "[0 1 2 3]\n"
     ]
    }
   ],
   "source": [
    "print(Sim[0:4])"
   ]
  },
  {
   "cell_type": "markdown",
   "id": "d370a320-0e95-4ad8-ab20-5d80285b576a",
   "metadata": {},
   "source": [
    "Stride - We use this type of slicing to get a step between the ranges . format = [start:end:Step] and if we use -1 as Step it access the elements from last and prints it .  "
   ]
  },
  {
   "cell_type": "code",
   "execution_count": 55,
   "id": "cb7d1ad8-dad9-495f-88e6-574e80643439",
   "metadata": {},
   "outputs": [
    {
     "name": "stdout",
     "output_type": "stream",
     "text": [
      "[0 2 4 6 8]\n"
     ]
    }
   ],
   "source": [
    "print(Sim[::2])"
   ]
  },
  {
   "cell_type": "code",
   "execution_count": 56,
   "id": "c0b38fe0-7254-4530-9d70-ed4a08336269",
   "metadata": {},
   "outputs": [
    {
     "name": "stdout",
     "output_type": "stream",
     "text": [
      "[9 8 7 6 5 4 3 2 1 0]\n"
     ]
    }
   ],
   "source": [
    "print(Sim[::-1])"
   ]
  },
  {
   "cell_type": "code",
   "execution_count": 57,
   "id": "20c7b7ce-4101-46e0-9bf7-50116e931a87",
   "metadata": {},
   "outputs": [
    {
     "name": "stdout",
     "output_type": "stream",
     "text": [
      "[9 7 5 3 1]\n"
     ]
    }
   ],
   "source": [
    "print(Sim[::-2])"
   ]
  },
  {
   "cell_type": "markdown",
   "id": "30c5eeef-3963-4199-aaca-e0810eee3696",
   "metadata": {},
   "source": [
    "We can also access the elements by row and column in a matrix."
   ]
  },
  {
   "cell_type": "code",
   "execution_count": 66,
   "id": "4875003a-253c-4741-b190-8b3a5889d333",
   "metadata": {},
   "outputs": [
    {
     "name": "stdout",
     "output_type": "stream",
     "text": [
      "[[1 2 3 4]\n",
      " [4 5 6 5]\n",
      " [7 8 9 6]]\n"
     ]
    }
   ],
   "source": [
    "mat = np.array([[1,2,3,4],[4,5,6,5],[7,8,9,6]])\n",
    "print(mat)"
   ]
  },
  {
   "cell_type": "markdown",
   "id": "1243087a-8f76-4cf7-bfcc-a39a4b381b0f",
   "metadata": {},
   "source": [
    "So here we can see i have accessed a sub matrix by using a specific format i.e mat[row_index:row_index1 , col_index:col_index1]"
   ]
  },
  {
   "cell_type": "code",
   "execution_count": 75,
   "id": "b1308e64-b845-431b-8e76-035347c52fee",
   "metadata": {},
   "outputs": [
    {
     "name": "stdout",
     "output_type": "stream",
     "text": [
      "[[2 3]\n",
      " [5 6]]\n"
     ]
    }
   ],
   "source": [
    "print(mat[0:2,1:3])"
   ]
  },
  {
   "cell_type": "markdown",
   "id": "b95e0325-b466-4cec-ae5c-94e1b2be6d06",
   "metadata": {},
   "source": [
    "## SHAPE MANIPULATION"
   ]
  },
  {
   "cell_type": "markdown",
   "id": "d556a066-9637-4bdb-a077-38d9ba85b33f",
   "metadata": {},
   "source": [
    "reshape(newshape) – Change array shape.\n",
    "\n",
    "flatten() – Collapse multi-dim array to 1D.\n",
    "\n",
    "transpose() – Flip rows and columns."
   ]
  },
  {
   "cell_type": "code",
   "execution_count": 3,
   "id": "62d7f4d2-aa6a-4b2c-a5d4-5b15035dff23",
   "metadata": {},
   "outputs": [
    {
     "name": "stdout",
     "output_type": "stream",
     "text": [
      "[ 1  2  3  4  5  6  7  8  9 10 11 12 13 14 15 16]\n"
     ]
    }
   ],
   "source": [
    "art = np.arange(1,17)\n",
    "print(art)"
   ]
  },
  {
   "cell_type": "code",
   "execution_count": 5,
   "id": "f9a0e3ae-0676-4221-9887-c088c2d927e7",
   "metadata": {},
   "outputs": [
    {
     "name": "stdout",
     "output_type": "stream",
     "text": [
      "[[ 1  2  3  4]\n",
      " [ 5  6  7  8]\n",
      " [ 9 10 11 12]\n",
      " [13 14 15 16]]\n"
     ]
    }
   ],
   "source": [
    "art_new = art.reshape(4,4)\n",
    "print(art_new)"
   ]
  },
  {
   "cell_type": "code",
   "execution_count": 8,
   "id": "f27d9df0-0672-407d-a2ef-bfe03a01ff3f",
   "metadata": {},
   "outputs": [
    {
     "name": "stdout",
     "output_type": "stream",
     "text": [
      "[ 1  2  3  4  5  6  7  8  9 10 11 12 13 14 15 16]\n"
     ]
    }
   ],
   "source": [
    "art_flat = art_new.flatten()\n",
    "print(art_flat)"
   ]
  },
  {
   "cell_type": "code",
   "execution_count": 10,
   "id": "a32dc595-dae9-41da-a22d-64d9dde31d4c",
   "metadata": {},
   "outputs": [
    {
     "name": "stdout",
     "output_type": "stream",
     "text": [
      "[[ 1  5  9 13]\n",
      " [ 2  6 10 14]\n",
      " [ 3  7 11 15]\n",
      " [ 4  8 12 16]]\n"
     ]
    }
   ],
   "source": [
    "art_trans = art_new.T\n",
    "print(art_trans)"
   ]
  },
  {
   "cell_type": "markdown",
   "id": "8650ef12-f265-40bf-86c5-06b065aaf0c3",
   "metadata": {},
   "source": [
    "# MATH OPERATION"
   ]
  },
  {
   "cell_type": "markdown",
   "id": "4653b73d-5343-46e5-b036-b0ca00f602de",
   "metadata": {},
   "source": [
    "Math Operations\n",
    "\n",
    "mean() – Mean of array.\n",
    "\n",
    "std() – Standard deviation.\n",
    "\n",
    "sum() – Total sum of elements.\n",
    "\n",
    "dot() – Dot product (vector/matrix).\n",
    "\n",
    "matmul() – Matrix multiplication."
   ]
  },
  {
   "cell_type": "code",
   "execution_count": 11,
   "id": "23f11605-933d-4014-bfdf-7f0174dc98d1",
   "metadata": {},
   "outputs": [
    {
     "name": "stdout",
     "output_type": "stream",
     "text": [
      "[ 1  2  3  4  5  6  7  8  9 10 11 12 13 14 15 16]\n"
     ]
    }
   ],
   "source": [
    "arr_math = np.arange(1,17)\n",
    "print(arr_math)"
   ]
  },
  {
   "cell_type": "code",
   "execution_count": 12,
   "id": "455c3b81-a75a-4591-a752-64c4582c13ac",
   "metadata": {},
   "outputs": [
    {
     "name": "stdout",
     "output_type": "stream",
     "text": [
      "8.5\n",
      "4.6097722286464435\n",
      "136\n"
     ]
    }
   ],
   "source": [
    "print(arr_math.mean())\n",
    "print(arr_math.std())\n",
    "print(arr_math.sum())"
   ]
  },
  {
   "cell_type": "code",
   "execution_count": 13,
   "id": "54520206-a725-4605-98c8-abdbb11f28c7",
   "metadata": {},
   "outputs": [
    {
     "name": "stdout",
     "output_type": "stream",
     "text": [
      "32\n"
     ]
    }
   ],
   "source": [
    "vec1 = np.array([1,2,3])\n",
    "vec2 = np.array([4,5,6])\n",
    "print(np.dot(vec1,vec2))"
   ]
  },
  {
   "cell_type": "code",
   "execution_count": 15,
   "id": "af3b85ff-d511-433a-b3db-81e00a60d55d",
   "metadata": {},
   "outputs": [
    {
     "name": "stdout",
     "output_type": "stream",
     "text": [
      "[[25 28]\n",
      " [73 82]]\n"
     ]
    }
   ],
   "source": [
    "A = np.array([[1,2],[4,5]])\n",
    "B = np.array([[7,8],[9,10]])\n",
    "print(np.matmul(A,B))"
   ]
  },
  {
   "cell_type": "markdown",
   "id": "e5400fb1-6f8f-41ff-bd77-c5327b92f433",
   "metadata": {},
   "source": [
    "# Random Functions"
   ]
  },
  {
   "cell_type": "code",
   "execution_count": 16,
   "id": "9f469b22-f2e7-4626-ae37-0344759e8719",
   "metadata": {},
   "outputs": [],
   "source": [
    "from numpy import random"
   ]
  },
  {
   "cell_type": "markdown",
   "id": "5d08f1f4-5e9e-4edb-bfb6-e31967bc1341",
   "metadata": {},
   "source": [
    "rand() – Uniform random floats in.\n",
    "\n",
    "randn() – Standard normal distribution (mean=0, std=1).\n",
    "\n",
    "randint() – Random integers in specified range.\n",
    "\n",
    "choice() – Random selection from an array."
   ]
  },
  {
   "cell_type": "code",
   "execution_count": 23,
   "id": "d4971bbb-dcde-4e2e-9b69-c4c38fc5a632",
   "metadata": {},
   "outputs": [
    {
     "name": "stdout",
     "output_type": "stream",
     "text": [
      "[0.05558034 0.4882731 ]\n"
     ]
    }
   ],
   "source": [
    "rnd_arr = random.rand(2)\n",
    "print(rnd_arr)"
   ]
  },
  {
   "cell_type": "code",
   "execution_count": 24,
   "id": "aca5392b-2a1b-4bdf-b9f6-b80ec75df7f4",
   "metadata": {},
   "outputs": [
    {
     "name": "stdout",
     "output_type": "stream",
     "text": [
      "[ 1.2794488 -0.6435653]\n"
     ]
    }
   ],
   "source": [
    "rndn_arr = random.randn(2)\n",
    "print(rndn_arr)"
   ]
  },
  {
   "cell_type": "code",
   "execution_count": 34,
   "id": "33cebe69-5153-4cce-bbda-76875b3010f0",
   "metadata": {},
   "outputs": [
    {
     "name": "stdout",
     "output_type": "stream",
     "text": [
      "[[7 2]\n",
      " [3 1]]\n"
     ]
    }
   ],
   "source": [
    "rndint_arr = random.randint(1,10,size=(2,2))\n",
    "print(rndint_arr)"
   ]
  },
  {
   "cell_type": "code",
   "execution_count": 38,
   "id": "1ea1553f-3a2d-42da-babd-a86e36f925c6",
   "metadata": {},
   "outputs": [
    {
     "name": "stdout",
     "output_type": "stream",
     "text": [
      "[[20 20]\n",
      " [10 10]]\n"
     ]
    }
   ],
   "source": [
    "ch = random.choice([10,20,30],size=(2,2))\n",
    "print(ch)"
   ]
  }
 ],
 "metadata": {
  "kernelspec": {
   "display_name": "Python [conda env:base] *",
   "language": "python",
   "name": "conda-base-py"
  },
  "language_info": {
   "codemirror_mode": {
    "name": "ipython",
    "version": 3
   },
   "file_extension": ".py",
   "mimetype": "text/x-python",
   "name": "python",
   "nbconvert_exporter": "python",
   "pygments_lexer": "ipython3",
   "version": "3.13.5"
  }
 },
 "nbformat": 4,
 "nbformat_minor": 5
}
